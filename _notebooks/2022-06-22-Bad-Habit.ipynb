{
 "cells": [
  {
   "cell_type": "markdown",
   "metadata": {},
   "source": [
    "# Bad Habits by Steve Lacy\n",
    ">  Top songs of the year\n",
    "- title: Bad Habits by Steve Lacy\n",
    "- toc: true\n",
    "- badges: false\n",
    "- image: /images/badhabit.png\n",
    "- type: ap\n",
    "- artist: Steve Lacy\n",
    "- comments: true"
   ]
  },
  {
   "cell_type": "markdown",
   "metadata": {},
   "source": [
    "# Bad Habits by Steve Lacy\n",
    "\n",
    "\"Steve Lacy, the breakout solo star who originally gained fame as a member of alt-soul band The Internet, has been a favorite of critics and streaming audiences for some time now. Now, he officially has his first crossover hit.\n",
    "\n",
    "“Bad Habit,” lead single from his July-released sophomore solo set Gemini Rights, advances three spots to No. 11 on the Billboard Hot 100 this week, in just its fourth frame on the chart. It’s his first hit of any size on the Hot 100, and already one of the biggest streaming breakout stories of 2022 — a year that hasn’t seen a tremendous number of newer artists scoring major hits.\" ~ BillBoard\n",
    "\n",
    "![Jimmy Cooks By Drake (feat. 21 Savage)](images/badhabits.jpeg)\n"
   ]
  }
 ],
 "metadata": {
  "kernelspec": {
   "display_name": "Python 3.10.6 64-bit",
   "language": "python",
   "name": "python3"
  },
  "language_info": {
   "name": "python",
   "version": "3.10.0"
  },
  "orig_nbformat": 4,
  "vscode": {
   "interpreter": {
    "hash": "aee8b7b246df8f9039afb4144a1f6fd8d2ca17a180786b69acc140d282b71a49"
   }
  }
 },
 "nbformat": 4,
 "nbformat_minor": 2
}
