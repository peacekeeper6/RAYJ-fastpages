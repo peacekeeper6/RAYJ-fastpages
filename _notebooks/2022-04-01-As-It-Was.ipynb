{
 "cells": [
  {
   "cell_type": "markdown",
   "metadata": {},
   "source": [
    "# As it Was By Harry Styles\n",
    "\n",
    ">As It Was is a wistful synth-pop track rooted in personal transitions. It's about metamorphosis and embracing change, Harry Styles explained to Audacy's Bru, and former self and perspective shift, and all of that kind of stuff.\n",
    "- title: As it Was\n",
    "- toc: true\n",
    "- badges: false\n",
    "- image: /images/asitwas.png\n",
    "- type: ap\n",
    "- artist: Harry Styles\n",
    "- comments: true\n",
    "\n",
    "<!-- Above are the descriptions that take place on the actual posts -->"
   ]
  },
  {
   "cell_type": "markdown",
   "metadata": {},
   "source": [
    "# As it Was by Harry Styles\n",
    "\n",
    "Harry Styles‘ “As It Was” logs a 15th week at No. 1 on the Billboard Hot 100 songs chart. \n",
    "\n",
    "Only three songs have led longer over the survey’s 64-year history, while “As It Was” claims outright the longest reign for a song by a British artist, as well as by an act with no accompanying artists. \n",
    "\n",
    "Harry Styles' 'As It Was' finds him facing down gravity and impermanence and arriving at what comes next.\n",
    "\n",
    "\n",
    "\n",
    "\n",
    "![As it Was By Harry Styles](images/as-it-was.jpg)\n"
   ]
  },
  {
   "cell_type": "markdown",
   "metadata": {},
   "source": [
    "# Lyrics\n",
    "\n",
    "Holdin' me back\n",
    "\n",
    "Gravity's holdin' me back\n",
    "\n",
    "I want you to hold out the palm of your hand\n",
    "\n",
    "Why don't we leave it at that?\n",
    "\n",
    "Nothin' to say\n",
    "\n",
    "When everything gets in the way\n",
    "\n",
    "Seems you cannot be replaced\n",
    "\n",
    "And I'm the one who will stay, oh\n",
    "\n",
    "In this world, it's just us\n",
    "\n",
    "You know it's not the same as it was\n",
    "\n",
    "In this world, it's just us\n",
    "\n",
    "You know it's not the same as it was\n",
    "\n",
    "As it was, as it was\n",
    "\n",
    "You know it's not the same\n",
    "\n",
    "Answer the phone\n",
    "\n",
    "\"Harry, you're no good alone\n",
    "\n",
    "Why are you sittin' at home on the floor?\n",
    "\n",
    "What kind of pills are you on?\"\n",
    "\n",
    "Ringin' the bell\n",
    "\n",
    "And nobody's comin' to help\n",
    "\n",
    "Your daddy lives by himself\n",
    "\n",
    "He just wants to know that you're well, oh\n",
    "\n",
    "In this world, it's just us\n",
    "\n",
    "You know it's not the same as it was\n",
    "\n",
    "In this world, it's just us\n",
    "\n",
    "You know it's not the same as it was\n",
    "\n",
    "As it was, as it was\n",
    "\n",
    "You know it's not the same\n",
    "\n",
    "Go home, get ahead, light-speed internet\n",
    "\n",
    "I don't wanna talk about the way that it was\n",
    "\n",
    "Leave America, two kids follow her\n",
    "\n",
    "I don't wanna talk about who's doin' it first\n",
    "\n",
    "As it was\n",
    "\n",
    "You know it's not the same as it was\n",
    "\n",
    "As it was, as it was\n"
   ]
  }
 ],
 "metadata": {
  "kernelspec": {
   "display_name": "Python 3.8.10 64-bit",
   "language": "python",
   "name": "python3"
  },
  "language_info": {
   "name": "python",
   "version": "3.8.10"
  },
  "orig_nbformat": 4,
  "vscode": {
   "interpreter": {
    "hash": "916dbcbb3f70747c44a77c7bcd40155683ae19c65e1c03b4aa3499c5328201f1"
   }
  }
 },
 "nbformat": 4,
 "nbformat_minor": 2
}
