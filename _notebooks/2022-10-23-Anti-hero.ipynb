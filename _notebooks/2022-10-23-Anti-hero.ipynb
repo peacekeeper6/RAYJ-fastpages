{
 "cells": [
  {
   "cell_type": "markdown",
   "metadata": {},
   "source": [
    "# Anti-Hero\n",
    ">  As the lead single to Midnights, \"Anti-Hero\" is about Swift's insecurities and anxieties in life both publicly and privately. \n",
    "- title: Anti-Hero\n",
    "- toc: true\n",
    "- badges: false\n",
    "- image: /images/antihero.png\n",
    "- type: ap\n",
    "- artist: Taylor Swift\n",
    "- comments: true"
   ]
  },
  {
   "cell_type": "markdown",
   "metadata": {},
   "source": [
    "# \"Anti-hero\"\n",
    "\"Taylor Swift scores one of the most historic weeks in the 64-year history of the Billboard Hot 100 songs chart, as she becomes the first artist to claim the survey’s entire top 10 in a single frame.\n",
    "\n",
    "Swift surpasses Drake, who logged nine of the Hot 100’s top 10 for a week in September 2021.\n",
    "\n",
    "Leading the way for Swift on the Hot 100, “Anti-Hero” launches at No. 1, marking her ninth career leader.\" ~ BillBoard\n",
    "\n",
    "\n",
    "![Anti-Hero By Taylor Swift](images/anti-hero.jpeg)\n",
    "\n"
   ]
  }
 ],
 "metadata": {
  "kernelspec": {
   "display_name": "Python 3.10.6 64-bit",
   "language": "python",
   "name": "python3"
  },
  "language_info": {
   "name": "python",
   "version": "3.10.0"
  },
  "orig_nbformat": 4,
  "vscode": {
   "interpreter": {
    "hash": "aee8b7b246df8f9039afb4144a1f6fd8d2ca17a180786b69acc140d282b71a49"
   }
  }
 },
 "nbformat": 4,
 "nbformat_minor": 2
}
