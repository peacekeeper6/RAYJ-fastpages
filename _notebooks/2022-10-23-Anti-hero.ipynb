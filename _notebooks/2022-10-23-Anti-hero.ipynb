{
 "cells": [
  {
   "cell_type": "markdown",
   "metadata": {},
   "source": [
    "# Anti-Hero\n",
    ">  Billboard Top Songs of the Year\n",
    "- title: Anti-Hero\n",
    "- toc: true\n",
    "- badges: false\n",
    "- image: /images/apcsa_units.png\n",
    "- type: ap\n",
    "- artist: Taylor Swift\n",
    "- comments: true"
   ]
  },
  {
   "cell_type": "markdown",
   "metadata": {},
   "source": [
    "\n",
    "# As it Was by Harry Styles\n",
    "\n",
    "\"Harry Styles‘ “As It Was” logs a 15th week at No. 1 on the Billboard Hot 100 songs chart. Only three songs have led longer over the survey’s 64-year history, while “As It Was” claims outright the longest reign for a song by a British artist, as well as by an act with no accompanying artists. Harry Styles' 'As It Was' finds him facing down gravity and impermanence and arriving at what comes next.\" ~ BillBoard\n",
    "\n",
    "![Jimmy Cooks By Drake (feat. 21 Savage)](static/images/jimmy-cooks.jpeg)\n",
    "\n"
   ]
  }
 ],
 "metadata": {
  "kernelspec": {
   "display_name": "Python 3.10.6 64-bit",
   "language": "python",
   "name": "python3"
  },
  "language_info": {
   "name": "python",
   "version": "3.10.0"
  },
  "orig_nbformat": 4,
  "vscode": {
   "interpreter": {
    "hash": "aee8b7b246df8f9039afb4144a1f6fd8d2ca17a180786b69acc140d282b71a49"
   }
  }
 },
 "nbformat": 4,
 "nbformat_minor": 2
}
