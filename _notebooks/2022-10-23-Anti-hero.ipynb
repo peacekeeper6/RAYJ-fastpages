{
 "cells": [
  {
   "cell_type": "markdown",
   "metadata": {},
   "source": [
    "# Anti-Hero\n",
    ">  As the lead single to Midnights, \"Anti-Hero\" is about Swift's insecurities and anxieties in life both publicly and privately. \n",
    "- title: Anti-Hero\n",
    "- toc: true\n",
    "- badges: false\n",
    "- image: /images/antihero.png\n",
    "- type: ap\n",
    "- artist: Taylor Swift\n",
    "- comments: true"
   ]
  },
  {
   "cell_type": "markdown",
   "metadata": {},
   "source": [
    "# \"Anti-hero\"\n",
    "\"Taylor Swift scores one of the most historic weeks in the 64-year history of the Billboard Hot 100 songs chart, as she becomes the first artist to claim the survey’s entire top 10 in a single frame.\n",
    "\n",
    "Swift surpasses Drake, who logged nine of the Hot 100’s top 10 for a week in September 2021.\n",
    "\n",
    "Leading the way for Swift on the Hot 100, “Anti-Hero” launches at No. 1, marking her ninth career leader.\" ~ BillBoard\n",
    "\n",
    "\n",
    "![Anti-Hero By Taylor Swift](images/anti-hero.jpeg)\n",
    "\n"
   ]
  },
  {
   "cell_type": "markdown",
   "metadata": {},
   "source": [
    "# Lyrics\n",
    "\n",
    "I have this thing where I get older but just never wiser\n",
    "Midnights become my afternoons\n",
    "When my depression works the graveyard shift\n",
    "All of the people I've ghosted stand there in the room\n",
    "I should not be left to my own devices\n",
    "They come with prices and vices\n",
    "I end up in crises\n",
    "Tale as old as time\n",
    "I wake up screaming from dreaming\n",
    "One day I'll watch as you're leaving\n",
    "'Cause you got tired of my scheming\n",
    "For the last time\n",
    "It's me\n",
    "Hi!\n",
    "I'm the problem, it's me\n",
    "At teatime\n",
    "Everybody agrees\n",
    "I'll stare directly at the sun but never in the mirror\n",
    "It must be exhausting always rooting for the anti-hero\n",
    "Sometimes I feel like everybody is a sexy baby\n",
    "And I'm a monster on the hill\n",
    "Too big to hang out\n",
    "Slowly lurching toward your favorite city\n",
    "Pierced through the heart but never killed\n",
    "Did you hear my covert narcissism\n",
    "I might disguise as altruism\n",
    "Like some kind of congressman\n",
    "Tale as old as time\n",
    "I wake up screaming from dreaming\n",
    "One day I'll watch as you're leaving\n",
    "And life will lose all its meaning\n",
    "For the last time\n",
    "It's me\n",
    "Hi!\n",
    "I'm the problem, it's me (I'm the problem, it's me)\n",
    "At teatime\n",
    "Everybody agrees\n",
    "I'll stare directly at the sun but never in the mirror\n",
    "It must be exhausting always rooting for the anti-hero\n",
    "I have this dream my daughter-in-law kills me for the money\n",
    "She thinks I left them in the will\n",
    "The family gathers 'round and reads it\n",
    "And then someone screams out\n",
    "\"She's laughing up at us from hell!\"\n",
    "It's me\n",
    "Hi!\n",
    "I'm the problem, it's me\n",
    "It's me\n",
    "Hi!\n",
    "I'm the problem, it's me\n",
    "It's me\n",
    "Hi!\n",
    "Everybody agrees\n",
    "Everybody agrees\n",
    "It's me\n",
    "Hi! (Hi!)\n",
    "I'm the problem, it's me (I'm the problem, it's me)\n",
    "At teatime\n",
    "Everybody agrees (everybody agrees)\n",
    "I'll stare directly at the sun but never in the mirror\n",
    "It must be exhausting always rooting for the anti-hero\n"
   ]
  }
 ],
 "metadata": {
  "kernelspec": {
   "display_name": "Python 3.10.6 64-bit",
   "language": "python",
   "name": "python3"
  },
  "language_info": {
   "name": "python",
   "version": "3.10.0"
  },
  "orig_nbformat": 4,
  "vscode": {
   "interpreter": {
    "hash": "aee8b7b246df8f9039afb4144a1f6fd8d2ca17a180786b69acc140d282b71a49"
   }
  }
 },
 "nbformat": 4,
 "nbformat_minor": 2
}
