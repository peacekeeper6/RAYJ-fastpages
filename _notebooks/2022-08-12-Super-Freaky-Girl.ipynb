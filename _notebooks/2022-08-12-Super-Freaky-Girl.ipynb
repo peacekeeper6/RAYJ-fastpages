{
 "cells": [
  {
   "cell_type": "markdown",
   "metadata": {},
   "source": [
    "# Super Freaky Girl\n",
    ">  “Super Freaky Girl” marks the rapper's first solo No. 1 on the Billboard Hot 100 following “Trollz” and “Say So,” her respective collaborations with 6ix9ine and Doja Cat, both reigning atop the chart in 2020.\n",
    "- title: Super Freaky Girl\n",
    "- toc: true\n",
    "- badges: false\n",
    "- image: /images/superfreakygirl.png\n",
    "- type: ap\n",
    "- artist: Nicki Minaj\n",
    "- comments: true"
   ]
  },
  {
   "cell_type": "markdown",
   "metadata": {},
   "source": [
    "# \"Super Freaky Girl\"\n",
    "\n",
    "\"The song — which, of course, prominently samples Rick James’ well-traveled 1981 funk classic “Super Freak” — debuts at No. 1 this week, as both the most-streamed and highest-selling song in the country this week. Not only does it mark Minaj’s first totally solo No. 1, it’s the first song to debut at No. 1 by any unaccompanied female rapper since Lauryn Hill’s “Doo-Wop (That Thing!)” back in 1998.\" ~ BillBoard\n",
    "\n",
    "\n",
    "![Super Freaky Girl By Nicki Minaj](images/superfreakygirl.jpeg)\n",
    "\n"
   ]
  }
 ],
 "metadata": {
  "kernelspec": {
   "display_name": "Python 3.10.6 64-bit",
   "language": "python",
   "name": "python3"
  },
  "language_info": {
   "name": "python",
   "version": "3.10.0"
  },
  "orig_nbformat": 4,
  "vscode": {
   "interpreter": {
    "hash": "aee8b7b246df8f9039afb4144a1f6fd8d2ca17a180786b69acc140d282b71a49"
   }
  }
 },
 "nbformat": 4,
 "nbformat_minor": 2
}
