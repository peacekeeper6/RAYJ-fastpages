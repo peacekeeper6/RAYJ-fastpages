{
 "cells": [
  {
   "cell_type": "markdown",
   "metadata": {},
   "source": [
    "# We Don't Talk About Bruno\n",
    ">  A song from Disney's 2021 computer-animated musical feature film Encanto, with music and lyrics written by Lin-Manuel Miranda. It was released by Walt Disney Records as part of the film's soundtrack.\n",
    "- title: We Don't Talk About Bruno\n",
    "- toc: true\n",
    "- badges: false\n",
    "- image: /images/bruno.png\n",
    "- type: ap\n",
    "- artist: Encanto - Cast, Adassa, Rhenzy Feliz, Stephanie Beatriz, Mauro Castillo, Diane Guerrero, Carolina Gaitán\n",
    "- comments: true"
   ]
  },
  {
   "cell_type": "markdown",
   "metadata": {},
   "source": [
    "# We Don't Talk About Bruno\n",
    "\n",
    "\"“We Don’t Talk About Bruno,” from Disney’s Encanto, makes a magical move to No. 1 on the Billboard Hot 100 songs chart.\n",
    "\n",
    "The ensemble song – by Carolina Gaitán, Mauro Castillo, Adassa, Rhenzy Feliz, Diane Guerrero, Stephanie Beatriz and the Encanto Cast – rises from the Hot 100’s runner-up spot and becomes just the second No. 1 ever from a Disney animated film.\n",
    "\n",
    "“Bruno” also marks the first Hot 100 leader for the song’s sole writer, Lin-Manuel Miranda. He and Mike Elizondo co-produced it and earn their first and second trips to No. 1, respectively, in those roles.\" ~ BillBoard\n",
    "\n",
    "![Light Switch By Charlie Puth](images/bruno.jpeg)\n"
   ]
  },
  {
   "cell_type": "markdown",
   "metadata": {},
   "source": [
    "# Lyrics\n",
    "\n",
    "We don't talk about Bruno, no, no, no!\n",
    "We don't talk about Bruno... but\n",
    "It was my wedding day\n",
    "It was our wedding day\n",
    "We were getting ready, and there wasn't a cloud in the sky\n",
    "No clouds allowed in the sky\n",
    "Bruno walks in with a mischievous grin-\n",
    "Thunder!\n",
    "You telling this story, or am I?\n",
    "I'm sorry, mi vida, go on\n",
    "Bruno says, \"It looks like rain\"\n",
    "Why did he tell us?\n",
    "In doing so, he floods my brain\n",
    "Abuela, get the umbrellas\n",
    "Married in a hurricane\n",
    "What a joyous day... but anyway\n",
    "We don't talk about Bruno, no, no, no!\n",
    "We don't talk about Bruno!\n",
    "Hey! Grew to live in fear of Bruno stuttering or stumbling\n",
    "I could always hear him sort of muttering and mumbling\n",
    "I associate him with the sound of falling sand, ch-ch-ch\n",
    "It's a heavy lift, with a gift so humbling\n",
    "Always left Abuela and the family fumbling\n",
    "Grappling with prophecies they couldn't understand\n",
    "Do you understand?\n",
    "A seven-foot frame\n",
    "Rats along his back\n",
    "When he calls your name\n",
    "It all fades to black\n",
    "Yeah, he sees your dreams\n",
    "And feasts on your screams (hey!)\n",
    "We don't talk about Bruno, no, no, no! (We don't talk about Bruno, no, no, no!)\n",
    "We don't talk about Bruno (we don't talk about Bruno!)\n",
    "He told me my fish would die\n",
    "The next day: dead! (No, no!)\n",
    "He told me I'd grow a gut!\n",
    "And just like he said... (no, no!)\n",
    "He said that all my hair would disappear, now look at my head (no, no! Hey!)\n",
    "Your fate is sealed when your prophecy is read!\n",
    "He told me that the life of my dreams would be promised, and someday be mine\n",
    "He told me that my power would grow, like the grapes that thrive on the vine\n",
    "Óye, Mariano's on his way\n",
    "He told me that the man of my dreams would be just out of reach\n",
    "Betrothed to another\n",
    "It's like I hear him now\n",
    "Hey sis', I want not a sound out of you (it's like I can hear him now)\n",
    "I can hear him now\n",
    "Um, Bruno...\n",
    "Yeah, about that Bruno...\n",
    "I really need to know about Bruno...\n",
    "Gimmie the truth and the whole truth, Bruno\n",
    "(Isabella, your boyfriend's here)\n",
    "Time for dinner!\n",
    "A seven-foot frame (it was my wedding day, it was our wedding day)\n",
    "Rats along his back (we were getting ready)\n",
    "When he calls your name (and there wasn't a cloud in the sky)\n",
    "It all fades to black (no clouds allowed in the sky!)\n",
    "Yeah, he sees your dreams (Bruno walks in with a mischievous grin-)\n",
    "And feasts on your screams (thunder!)\n",
    "You telling this story, or am I?\n",
    "I'm sorry, mi vida, go on (óye, Mariano's on his way)\n",
    "Bruno says, \"It looks like rain\" (a seven-foot frame, rats along his back)\n",
    "In doing so, he floods my brain\n",
    "Married in a hurricane\n",
    "He's here!\n",
    "Don't talk about Bruno, no! (Why did I talk about Bruno?)\n",
    "Not a word about Bruno!\n",
    "I never should've brought up Bruno!"
   ]
  }
 ],
 "metadata": {
  "kernelspec": {
   "display_name": "Python 3.10.6 64-bit",
   "language": "python",
   "name": "python3"
  },
  "language_info": {
   "name": "python",
   "version": "3.10.0"
  },
  "orig_nbformat": 4,
  "vscode": {
   "interpreter": {
    "hash": "aee8b7b246df8f9039afb4144a1f6fd8d2ca17a180786b69acc140d282b71a49"
   }
  }
 },
 "nbformat": 4,
 "nbformat_minor": 2
}
