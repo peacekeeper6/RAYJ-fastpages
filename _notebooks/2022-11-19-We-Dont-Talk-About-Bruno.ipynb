{
 "cells": [
  {
   "cell_type": "markdown",
   "metadata": {},
   "source": [
    "# We Don't Talk About Bruno\n",
    ">  Student Led Instruction.\n",
    "- title: We Don't Talk About Bruno\n",
    "- toc: true\n",
    "- badges: false\n",
    "- image: /images/bad-habits.jpeg\n",
    "- type: ap\n",
    "- artist: Encanto - Cast, Adassa, Rhenzy Feliz, Stephanie Beatriz, Mauro Castillo, Diane Guerrero, Carolina Gaitán\n",
    "- comments: true"
   ]
  },
  {
   "cell_type": "markdown",
   "metadata": {},
   "source": [
    "# We Don't Talk About Bruno\n",
    "\n",
    "\"“We Don’t Talk About Bruno,” from Disney’s Encanto, makes a magical move to No. 1 on the Billboard Hot 100 songs chart.\n",
    "\n",
    "The ensemble song – by Carolina Gaitán, Mauro Castillo, Adassa, Rhenzy Feliz, Diane Guerrero, Stephanie Beatriz and the Encanto Cast – rises from the Hot 100’s runner-up spot and becomes just the second No. 1 ever from a Disney animated film.\n",
    "\n",
    "“Bruno” also marks the first Hot 100 leader for the song’s sole writer, Lin-Manuel Miranda. He and Mike Elizondo co-produced it and earn their first and second trips to No. 1, respectively, in those roles.\" ~ BillBoard\n",
    "\n",
    "![Light Switch By Charlie Puth](images/bruno.jpeg)\n"
   ]
  }
 ],
 "metadata": {
  "kernelspec": {
   "display_name": "Python 3.10.6 64-bit",
   "language": "python",
   "name": "python3"
  },
  "language_info": {
   "name": "python",
   "version": "3.10.0"
  },
  "orig_nbformat": 4,
  "vscode": {
   "interpreter": {
    "hash": "aee8b7b246df8f9039afb4144a1f6fd8d2ca17a180786b69acc140d282b71a49"
   }
  }
 },
 "nbformat": 4,
 "nbformat_minor": 2
}
