{
 "cells": [
  {
   "cell_type": "markdown",
   "metadata": {},
   "source": [
    "# Light Switch By Charlie Puth\n",
    ">  Top songs of the year\n",
    "- title: Light Switch By Charlie Puth\n",
    "- toc: true\n",
    "- badges: false\n",
    "- image: /images/bad-habits.jpeg\n",
    "- type: ap\n",
    "- artist: Charlie Puth\n",
    "- comments: true"
   ]
  },
  {
   "cell_type": "markdown",
   "metadata": {},
   "source": [
    "# Light Switch By Charlie Puth\n",
    "\n",
    "\"Charlie Puth has a love he just can’t shake on his new single, “Light Switch.” The funky, uptempo track the singer has been teasing for months dropped on Thursday morning (Jan. 20) as the first taste of Charlie, his upcoming follow-up to 2018’s Grammy-nominated Voicenotes. Puth, 30, breaks down the frustration of trying to walk away and getting pulled right back every time on the bouncy track that features the familiar click of a light switch on the chorus. The singer also dropped the official video for the song, in which a paunchy, crying-in-his-bag-of-chips bearded Charlie drowns his sorrows in junk food and basic cable workout shows after a bad break-up. But then the instructor jumps off the screen and puts Charlie through a Rocky-like body transformation that includes jogging, Jazzercise and a wardrobe upgrade.\" ~ BillBoard\n",
    "\n",
    "![Light Switch By Charlie Puth](images/lightswitch.jpeg)\n"
   ]
  }
 ],
 "metadata": {
  "kernelspec": {
   "display_name": "Python 3.10.6 64-bit",
   "language": "python",
   "name": "python3"
  },
  "language_info": {
   "name": "python",
   "version": "3.10.0"
  },
  "orig_nbformat": 4,
  "vscode": {
   "interpreter": {
    "hash": "aee8b7b246df8f9039afb4144a1f6fd8d2ca17a180786b69acc140d282b71a49"
   }
  }
 },
 "nbformat": 4,
 "nbformat_minor": 2
}
