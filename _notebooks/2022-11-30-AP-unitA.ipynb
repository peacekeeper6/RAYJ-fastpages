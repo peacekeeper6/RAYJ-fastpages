{
 "cells": [
  {
   "cell_type": "markdown",
   "metadata": {},
   "source": [
    "---\n",
    "toc: true\n",
    "comments: true\n",
    "layout: post\n",
    "title: Jimmy Cooks\n",
    "description:  Top songs of the Year ~ BillBoard\n",
    "permalink: /points/16\n",
    "image: /images/points.jpeg\n",
    "categories: []\n",
    "type: plan\n",
    "week: 16\n",
    "---"
   ]
  },
  {
   "cell_type": "markdown",
   "metadata": {},
   "source": [
    "\"Drake‘s “Jimmy Cooks,” featuring 21 Savage, blasts in at No. 1 on the Billboard Hot 100 songs chart. The collaboration marks Drake’s 11th Hot 100 No. 1 and 21 Savage’s second. “Jimmy Cooks,” released on OVO/Republic Records, tallied 42.2 million streams, 3 million radio airplay audience impressions and 6,000 downloads sold in its first week (June 17-23), according to Luminate, following the June 17 arrival of parent album Honestly, Nevermind, announced only hours before its release.\" ~ BillBoard"
   ]
  }
 ],
 "metadata": {
  "kernelspec": {
   "display_name": "Python 3.10.6 64-bit",
   "language": "python",
   "name": "python3"
  },
  "language_info": {
   "name": "python",
   "version": "3.10.0"
  },
  "orig_nbformat": 4,
  "vscode": {
   "interpreter": {
    "hash": "aee8b7b246df8f9039afb4144a1f6fd8d2ca17a180786b69acc140d282b71a49"
   }
  }
 },
 "nbformat": 4,
 "nbformat_minor": 2
}
