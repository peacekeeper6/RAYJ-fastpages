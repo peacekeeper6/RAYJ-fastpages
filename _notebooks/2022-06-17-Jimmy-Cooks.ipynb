{
 "cells": [
  {
   "cell_type": "markdown",
   "metadata": {},
   "source": [
    "# Jimmy Cooks\n",
    ">  Top songs of the year\n",
    "- title: Jimmy Cooks\n",
    "- toc: true\n",
    "- badges: false\n",
    "- image: /images/apcsa_units.png\n",
    "- type: ap\n",
    "- artist: Drake\n",
    "- comments: true"
   ]
  },
  {
   "cell_type": "markdown",
   "metadata": {},
   "source": [
    "# Jimmy Cooks By Drake (feat. 21 Savage)\n",
    "\n",
    "Drake‘s “Jimmy Cooks,” featuring 21 Savage, blasts in at No. 1 on the Billboard Hot 100 songs chart. The collaboration marks Drake’s 11th Hot 100 No. 1 and 21 Savage’s second. “Jimmy Cooks,” released on OVO/Republic Records, tallied 42.2 million streams, 3 million radio airplay audience impressions and 6,000 downloads sold in its first week (June 17-23), according to Luminate, following the June 17 arrival of parent album Honestly, Nevermind, announced only hours before its release.\n",
    "\n",
    "![Jimmy Cooks By Drake (feat. 21 Savage)](images/jimmy-cooks.jpeg)\n"
   ]
  }
 ],
 "metadata": {
  "kernelspec": {
   "display_name": "Python 3.10.6 64-bit",
   "language": "python",
   "name": "python3"
  },
  "language_info": {
   "name": "python",
   "version": "3.10.0"
  },
  "orig_nbformat": 4,
  "vscode": {
   "interpreter": {
    "hash": "aee8b7b246df8f9039afb4144a1f6fd8d2ca17a180786b69acc140d282b71a49"
   }
  }
 },
 "nbformat": 4,
 "nbformat_minor": 2
}
