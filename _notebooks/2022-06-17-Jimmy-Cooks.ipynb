{
 "cells": [
  {
   "cell_type": "markdown",
   "metadata": {},
   "source": [
    "# Jimmy Cooks\n",
    ">  “Bad Habit,” with its mix of R&B and indie pop sensibilities, feels like it could have been released in any era of music, and few songs currently on the charts sound like it. It’s groovy and melancholy, the lyrics are filled with yearning and regret, and Lacy’s guitar strings whirl and wane. It’s a despondent anthem that remarkably manages to fit into everyone’s Instagram story montage. \n",
    "- title: Jimmy Cooks\n",
    "- toc: true\n",
    "- badges: false\n",
    "- image: /images/jimmycooks.png\n",
    "- type: ap\n",
    "- artist: Drake\n",
    "- comments: true\n",
    "\n",
    "<!-- Above are the descriptions that take place on the actual posts -->"
   ]
  },
  {
   "cell_type": "markdown",
   "metadata": {},
   "source": [
    "# Jimmy Cooks\n",
    "\n",
    "\"The Honestly, Nevermind track Jimmy Cooks, seemingly an ode to the character of Jimmy Brooks that Drake portrayed on Degrassi: The Next Generation is the pair’s latest collab, and it debuted at No. 1 on the Billboard Hot 100 over the summer, making it Drake’s 11th Hot 100 No. 1 and 21 Savage’s second.\" ~ BillBoard\n",
    "\n",
    "\n",
    "\n",
    "![Jimmy Cooks By Drake (feat. 21 Savage)](images/jimmycooks.jpeg)\n"
   ]
  },
  {
   "cell_type": "markdown",
   "metadata": {},
   "source": []
  }
 ],
 "metadata": {
  "kernelspec": {
   "display_name": "Python 3.10.6 64-bit",
   "language": "python",
   "name": "python3"
  },
  "language_info": {
   "name": "python",
   "version": "3.10.0"
  },
  "orig_nbformat": 4,
  "vscode": {
   "interpreter": {
    "hash": "aee8b7b246df8f9039afb4144a1f6fd8d2ca17a180786b69acc140d282b71a49"
   }
  }
 },
 "nbformat": 4,
 "nbformat_minor": 2
}
