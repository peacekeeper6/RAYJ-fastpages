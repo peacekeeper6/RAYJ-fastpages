{
 "cells": [
  {
   "cell_type": "markdown",
   "metadata": {},
   "source": [
    "# As it Was\n",
    ">  Billboard Top Songs of the Year\n",
    "- title: As it Was\n",
    "- toc: true\n",
    "- badges: false\n",
    "- image: /images/apcsa_units.png\n",
    "- type: ap\n",
    "- artist: Harry Styles\n",
    "- comments: true"
   ]
  },
  {
   "cell_type": "markdown",
   "metadata": {},
   "source": [
    "# As it Was by Harry Styles\n",
    "\n",
    "\n",
    "\n",
    "![Jimmy Cooks By Drake (feat. 21 Savage)](static/images/jimmy-cooks.jpeg)\n"
   ]
  }
 ],
 "metadata": {
  "kernelspec": {
   "display_name": "Python 3.10.6 64-bit",
   "language": "python",
   "name": "python3"
  },
  "language_info": {
   "name": "python",
   "version": "3.10.6"
  },
  "orig_nbformat": 4,
  "vscode": {
   "interpreter": {
    "hash": "aee8b7b246df8f9039afb4144a1f6fd8d2ca17a180786b69acc140d282b71a49"
   }
  }
 },
 "nbformat": 4,
 "nbformat_minor": 2
}
